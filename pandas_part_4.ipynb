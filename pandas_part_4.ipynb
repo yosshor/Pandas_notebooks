{
 "cells": [
  {
   "cell_type": "markdown",
   "metadata": {},
   "source": [
    "# Distributions in Pandas"
   ]
  },
  {
   "cell_type": "code",
   "execution_count": 33,
   "metadata": {},
   "outputs": [],
   "source": [
    "\"\"\"\n",
    "@yossi_shor\n",
    "\"\"\"\n",
    "import pandas as pd\n",
    "import numpy as np \n",
    "import matplotlib.pyplot as plt\n",
    "%matplotlib inline"
   ]
  },
  {
   "cell_type": "markdown",
   "metadata": {},
   "source": [
    "The formula for standard deviation\n",
    "$$\\sqrt{\\frac{1}{N} \\sum_{i=1}^N (x_i - \\overline{x})^2}$$"
   ]
  },
  {
   "cell_type": "code",
   "execution_count": 4,
   "metadata": {},
   "outputs": [
    {
     "data": {
      "text/plain": [
       "0"
      ]
     },
     "execution_count": 4,
     "metadata": {},
     "output_type": "execute_result"
    }
   ],
   "source": [
    "np.random.binomial(1, 0.5)"
   ]
  },
  {
   "cell_type": "code",
   "execution_count": 8,
   "metadata": {},
   "outputs": [
    {
     "data": {
      "text/plain": [
       "0.527"
      ]
     },
     "execution_count": 8,
     "metadata": {},
     "output_type": "execute_result"
    }
   ],
   "source": [
    "np.random.binomial(1000, 0.5)/1000"
   ]
  },
  {
   "cell_type": "code",
   "execution_count": 13,
   "metadata": {},
   "outputs": [
    {
     "data": {
      "text/plain": [
       "10"
      ]
     },
     "execution_count": 13,
     "metadata": {},
     "output_type": "execute_result"
    }
   ],
   "source": [
    "chance_of_tornado = 0.01/100\n",
    "np.random.binomial(100000, chance_of_tornado)"
   ]
  },
  {
   "cell_type": "code",
   "execution_count": 14,
   "metadata": {},
   "outputs": [
    {
     "name": "stdout",
     "output_type": "stream",
     "text": [
      "89 tornadoes back to back in 2739.72602739726 years\n"
     ]
    }
   ],
   "source": [
    "chance_of_tornado = 0.01\n",
    "\n",
    "tornado_events = np.random.binomial(1, chance_of_tornado, 1000000)\n",
    "    \n",
    "two_days_in_a_row = 0\n",
    "for j in range(1,len(tornado_events)-1):\n",
    "    if tornado_events[j]==1 and tornado_events[j-1]==1:\n",
    "        two_days_in_a_row+=1\n",
    "\n",
    "print('{} tornadoes back to back in {} years'.format(two_days_in_a_row, 1000000/365))"
   ]
  },
  {
   "cell_type": "code",
   "execution_count": 15,
   "metadata": {},
   "outputs": [
    {
     "data": {
      "text/plain": [
       "0.011253112751008043"
      ]
     },
     "execution_count": 15,
     "metadata": {},
     "output_type": "execute_result"
    }
   ],
   "source": [
    "np.random.uniform(0, 1)"
   ]
  },
  {
   "cell_type": "code",
   "execution_count": 16,
   "metadata": {},
   "outputs": [
    {
     "data": {
      "text/plain": [
       "-1.0081087910098463"
      ]
     },
     "execution_count": 16,
     "metadata": {},
     "output_type": "execute_result"
    }
   ],
   "source": [
    "np.random.normal(0.75)"
   ]
  },
  {
   "cell_type": "code",
   "execution_count": 25,
   "metadata": {},
   "outputs": [
    {
     "name": "stdout",
     "output_type": "stream",
     "text": [
      "[ 0.75177823  1.14617084  0.63548521  0.62360721  0.30285407  0.21669418\n",
      "  0.10847903  1.24776971 -0.30573886 -0.1657979   0.15095681  1.96833573\n",
      "  1.37095727  1.63246367  0.93903689 -0.13951221  0.67547847  0.38902813\n",
      "  0.04722709  1.1514803   0.34651094 -0.85363817  1.58322939  0.28729802\n",
      "  1.43512329  1.06558018  1.33503012  1.51501671  1.24016831  0.7784602\n",
      "  1.93381549  2.71887107  1.19866664  1.79322133  0.50103979  0.89826097\n",
      "  0.84715718  0.4782689   1.08578159  1.68202505  0.72420802 -0.41446932\n",
      "  2.0705627   1.46755749  1.75293174  1.01948242 -0.21242398  0.18285211\n",
      "  0.35118919  1.09784046  0.4503377   1.45385565  2.44988835 -0.50487918\n",
      "  2.98500388 -0.52154563  1.31090579  1.47737864 -0.06193698  0.25141648\n",
      " -0.54972092  0.20466764  1.28918961 -0.40426179  0.00645262  0.20903\n",
      "  0.49810902 -1.26113299  0.97586977  0.28886195  1.79483173  1.77303302\n",
      "  0.45468752  1.62941727  1.40314468  0.47079207  2.78098958 -0.08893319\n",
      "  1.13268482  0.67095714  1.64445359  1.19875569 -0.0270118  -2.56894493\n",
      " -0.21102671 -0.19490775  1.73085582  1.46916749  1.03498821  0.52542536\n",
      "  0.71568766  1.20598672  1.56565791  2.37128019  1.18968643  0.93114342\n",
      " -0.92997312  2.24738304  1.15737329  0.56337062  3.16813389  1.90527834\n",
      " -0.54359052 -0.26613918  0.15163906  2.58125556  1.23333922 -1.96260856\n",
      "  1.17576369  1.53105756  1.65205867  1.13810729  0.35944655  0.19099006\n",
      "  1.32683105  0.75861262  3.194226    0.65748115 -0.80700013  1.32427525\n",
      "  1.9550601   2.13906649  1.01696764 -0.18737912  0.11847383  0.27809681\n",
      "  0.85815115 -0.25143539  1.00084523  2.36062769  0.97757491 -0.10923786\n",
      "  0.82173752  1.23443484  0.813558    1.0878096  -0.40397804  0.07446308\n",
      "  1.64627994 -0.17849971  0.57423212  1.15878431  1.5279172  -0.64673079\n",
      "  0.04038397  1.02110444  2.35794483  1.669561    0.52497598  2.50452853\n",
      "  1.06288794  1.63601426  0.458817    1.42159672  1.35751527  1.31698621\n",
      " -0.03889145  1.56885442  2.24173752  2.06148084  1.57590756  1.44495698\n",
      "  1.47445981 -0.51708341  1.65808737  1.18240317  1.95646434  0.97500486\n",
      "  1.19549195  1.37047358  1.25969985  1.79443556  1.18348362  0.83440307\n",
      "  1.80625936  0.33434156  2.19325627  0.55439193  1.82039866 -0.16168214\n",
      "  2.27219432  2.2932845   0.56725732  1.28704886 -0.58587167  1.51920221\n",
      " -0.08987754  0.37798081 -0.36332663  0.50584633  1.70963732  1.8349879\n",
      "  0.72192398  0.59360194  1.08743542  0.46891739  2.21491841  2.52302859\n",
      " -0.25970945  1.67824708 -0.4689572   0.24595929  0.32982807 -0.92052784\n",
      "  0.18936718 -0.37409411  0.66195985  1.07820533  1.47192945  1.94997805\n",
      "  0.94766531  0.77373915  1.46308571 -0.29147818  1.78377331  2.42504479\n",
      "  1.33946132  0.10334714  1.0038022   0.05529472  0.540744    0.44972743\n",
      "  2.99420009 -0.46466039  0.54809297  1.20274157  0.87563641 -0.1173918\n",
      " -0.077169   -2.34955559  0.72727882 -1.04026717  1.44084977 -0.53027716\n",
      "  0.82880492  1.71866345  1.20079762  1.66273411  1.57884372  0.18357415\n",
      "  0.91318086  1.01475917  0.76406354 -0.86658655  3.06782115  0.33217386\n",
      "  1.09049502  0.61547701  1.0604097   0.40690876  0.52802588 -0.15267743\n",
      "  1.44528568  1.1040008   0.66585472 -1.20013252  0.94987719  1.18827089\n",
      "  0.60079031  0.78280246  0.42346125  0.16879788  0.58219826  1.21442297\n",
      "  1.62036575  0.9798164   0.93934312  0.18946639  3.28937128  3.47452238\n",
      "  0.4552981   1.45654231 -0.6158009  -2.42292334  1.05709737  0.97124534\n",
      "  1.05919715  1.02855259  1.70083051  1.09139615  1.75015153  1.09148698\n",
      "  1.26574904  1.14841302  3.93084727  0.68481852 -0.11974002 -0.04952479\n",
      "  1.08073267  0.4936746   0.85595992  1.37023924  1.75771152  0.96416898\n",
      "  0.05356322 -0.21353855 -0.67081757  1.65264603 -1.44451343  2.88077652\n",
      " -0.55492072  0.11089419  1.46299139 -0.16571326 -0.26773388  0.18722845\n",
      " -0.86135493  1.85462973  0.11694763 -0.40887384 -0.07742148  0.7298755\n",
      " -1.50348121  1.91918745  0.54039039  1.37252672  0.39594581  0.40003351\n",
      "  0.82701037  1.35667769  0.48996052  0.58149024  1.85909638  0.79762223\n",
      "  1.6933812   2.69709341 -0.46864056 -0.46297877  1.7691125   2.18131732\n",
      "  0.12146469  1.37427495  2.74666878 -0.46700737  1.98072478  1.23564748\n",
      " -0.36167305 -0.01439655  1.38137425 -0.69738959 -0.10499885  0.95603324\n",
      "  0.19181137  0.9768999   3.15818184  0.23391382  0.64463979  0.78093663\n",
      "  0.23793378  1.63835968 -1.07464149  0.15954053 -1.1683537   1.175356\n",
      "  0.05552573  0.72734814  0.95014351  1.75297566  1.12461139  1.37414629\n",
      "  0.89106023 -0.71826031  0.22165534  1.07379776  0.57210255  0.15625166\n",
      "  0.09646611  2.09515721 -1.12916347 -0.06550005  0.0768895  -0.22318615\n",
      "  0.78899584  2.22604188 -0.98003853  0.21979482  1.04657949  1.24304342\n",
      "  0.92643944  0.55760813  0.15350862  0.10256449  2.00940976  1.7763446\n",
      "  0.28030308  1.63076369  2.00082936  0.5519432   1.01820923  0.49570538\n",
      "  2.01246125 -0.55729665  0.95512312  1.18525258 -2.11531464  0.43177337\n",
      " -1.3112235   2.27201094  2.26049867  1.11979667  1.86550765  0.16659949\n",
      "  2.66693456  1.08608094  1.26875029  2.83108158  0.41056918  1.5840146\n",
      "  0.27385483  2.16739553  1.12455446  1.54604354  2.04439567  2.36781903\n",
      "  1.55446607 -0.19971017  1.37317308 -0.34856595  1.33048078  1.13973169\n",
      "  0.85818504  1.26648263 -0.54783055  1.72786413  0.67976041  1.06128843\n",
      "  1.59554163  2.15443301 -0.47500955  1.2312795   0.31911823  2.46579716\n",
      " -0.7205135   0.33676248  0.39603049 -0.04311166  1.07240724  1.11098711\n",
      "  0.90070362  0.73656857 -0.09761225  1.10301691 -0.41536481  0.13723417\n",
      "  1.34197385 -0.06509545  0.67111413  1.08897716  0.54517552  1.07925489\n",
      "  1.3116776  -0.03013381  0.49001724  1.860104   -0.39095182  1.05935543\n",
      "  0.08261542 -0.06841723  0.37009962  1.24893651  2.04431599  0.66311824\n",
      "  2.29534795  1.71424309  0.16325238  0.68436804 -0.17630924  0.28857067\n",
      "  0.60108574  0.03112867 -0.00639954  1.39591057  2.63386964  0.60798259\n",
      "  1.62035009  1.45116062  1.55439015  0.59974379  1.21009553 -0.3599901\n",
      "  0.46972968  1.07516833  0.30070826  1.05861162  2.4074405  -0.40256438\n",
      " -0.95904299  1.21879728  1.49555239 -0.88914    -0.2844009   0.93127415\n",
      "  0.4136648   1.62254693  1.13859442  0.85468436  0.14362306  1.04040877\n",
      "  0.01383262  1.349905   -0.47695106  0.84290236  0.55098254 -0.20996749\n",
      "  1.05370066  2.00638007  0.53728819  1.18998173  1.6798194   0.65105498\n",
      "  0.81629327  0.37730977 -0.14776693  3.74832223  0.04792096  1.55703267\n",
      "  0.32026738  1.33360186  0.9509081   1.39723483  2.49897378  1.29967803\n",
      " -0.37317744  1.30050823  1.16400884  1.49771025  0.69990176  0.64270403\n",
      " -0.75499288  0.81529339  1.63472214  2.12142108  1.58731574 -0.20960159\n",
      " -0.06578856  0.20531424  1.93833899 -0.40109153 -0.42475228  0.1971354\n",
      "  1.68432298  0.57619233 -0.09990663  0.01596855  0.92405543  1.83495439\n",
      "  1.35416847  1.45938584  0.70794481  1.77912033 -0.2152721   1.86457919\n",
      "  1.89013817 -0.23846722  0.75946055 -0.69328046  0.46175174 -0.73169899\n",
      "  1.63148637  1.74617452  1.26784156  1.27439664  1.316646    1.79128739\n",
      "  0.35080364  0.61618935 -0.33626354  1.07728921  0.83341649  1.54063285\n",
      "  0.12313284  0.75804791  0.93180724  1.32159577  1.55546766  1.23289494\n",
      "  0.81655831 -0.08222908 -0.16195353 -0.2687324   1.71278135  1.40774123\n",
      "  2.07669875  1.24911709  1.4175096  -0.41162374  0.81545358  0.25453619\n",
      "  0.16518356 -0.64886117  1.97492019  2.15440165 -0.00537391  2.49478848\n",
      "  0.07816242  1.97478136  1.00360949  1.0605499   0.38388152 -0.20277513\n",
      "  1.53771659  0.92513909 -0.63488297  1.36232351  0.74942003  2.48386348\n",
      "  0.38447742  0.53579018  1.42537967 -0.87293862  0.68978453  0.20128456\n",
      "  0.45517163  0.2888084   1.49551691  0.44143412  1.51736948  0.85216176\n",
      "  2.00366756  0.77961155  1.87096255 -0.28183741  0.47758537  1.80114471\n",
      "  2.14811697  1.79297547  3.10727981  1.85914018  0.8990947   0.63614354\n",
      "  0.35448166  0.61516961 -1.27313481  1.19608568 -1.63892652  0.34725658\n",
      "  0.72551535  1.32088977  0.83837177 -1.05011022  2.02285749  0.48086025\n",
      "  0.01741041  2.1190373   0.84705284  2.84511753  0.15314157  0.39864619\n",
      "  1.18490328  0.73848092  1.62297497  0.45385389  1.71373161  1.13067303\n",
      "  0.9293252  -1.24691401  1.22495471 -1.22925266  2.36597254  1.61495343\n",
      " -0.01821954  1.28331412  0.70450927  0.73843611  1.87653875  0.69465983\n",
      " -0.03149831  2.16274941  1.02295607  0.41081128  0.83239734  2.61516164\n",
      "  0.44416479  1.31026874  1.83400781  0.92034449  1.06358168  1.34180377\n",
      "  2.17817899  1.34500407  0.38234101  1.97340416  0.7299891   2.95011696\n",
      "  0.86804066  1.49983091  0.88605391  2.26436614  1.63560428  2.01180143\n",
      " -0.14104107  2.61042468  0.95660415 -0.10582041 -0.01088696  0.39401879\n",
      "  0.62909308  0.8883817   1.36873453  1.25334336  0.57298553  0.16380103\n",
      "  1.76520669 -0.8887243   1.2540879  -0.18098458  2.61954617  0.6305958\n",
      "  2.28187151 -1.49474722  1.57597856  1.52350293  1.29439946  0.91345354\n",
      " -0.21670071  1.50122737  0.14570902 -0.63127131 -0.08439552  1.49844423\n",
      "  1.9510949  -1.2909001   1.61060578  1.21973164 -1.51117984  0.09297601\n",
      "  0.34061816  2.05315381  0.33645645  1.24025526  0.85292235  0.93494448\n",
      " -1.04782089  0.22976083 -0.57070933  1.33950499  0.71412741  0.0987851\n",
      " -0.05809179  0.98401503  2.6495201   0.14135291  0.43331171  0.7994876\n",
      "  0.76040881  0.94580728 -0.30107225  1.25096987  1.82549809  0.7140237\n",
      " -0.15320226  1.62906645  1.88739838  1.34355586  0.35668235  1.05535443\n",
      "  1.63471518  1.45693772  0.07394612 -0.75745211 -0.08019381  0.90802426\n",
      "  1.50374608 -0.63028761  1.14503802  0.75259076 -0.73858164  0.9090367\n",
      "  0.73194198  0.65717973  0.9066636  -0.90008864  1.79393056  0.62308575\n",
      "  0.7555244   2.51965154  2.31600182  2.88631099 -0.52376016 -0.07907658\n",
      " -0.15095762 -0.62562106  1.24058372 -0.69013887  1.90962557 -0.41958091\n",
      "  1.3592059   0.82666391  0.18291102  2.74344687 -0.63227776  1.76526924\n",
      "  0.74002718  1.72057142  0.48024161  1.57842649  0.25874966 -1.10070808\n",
      "  0.20664437  0.84470142 -0.27470816  1.62555389 -0.48454267  1.76473822\n",
      "  1.45259258  1.1464367   2.63994814 -0.70614884  1.0094251   1.78463211\n",
      "  0.13705682  1.51563776  0.68397209  1.55565385  0.67759413  1.11729171\n",
      "  0.42903402  1.15503034  1.06959092  0.93369616  0.07191594  1.55833572\n",
      " -0.7260576   0.88803606  1.43154036 -0.38499333  0.88615635  1.22506102\n",
      "  2.10445388  1.29632996  0.27930146  0.55364124  1.62385786  0.15976932\n",
      "  3.04453631  1.46690093  0.06870588  1.51160663  1.40759855 -0.99600895\n",
      "  0.50935018  0.35408837  1.01292418  0.02443627  1.2055564   1.41576274\n",
      "  0.2895859   1.59535038 -0.11927285  0.82612679  0.87486684  1.57346245\n",
      " -0.85364194 -0.44530661  0.50620334 -1.07838388  1.76252164 -1.95246239\n",
      "  2.10235149 -0.92793293  0.63254147  0.72801606  0.61861775 -1.47431473\n",
      "  0.37019913 -0.17613947  1.46018058 -0.31046413 -0.46769763 -1.29742632\n",
      "  3.32428375  0.84659245  0.90680232  1.6510594   0.87018839  1.86265766\n",
      "  1.24179272  1.40189294 -0.04841403 -0.08702742  1.23081134  1.66429212\n",
      "  1.63191965 -1.17628775  2.89947379  2.12665486  0.26285346  1.56646826\n",
      "  1.94331232  0.37294372  0.10109754  1.96133693 -0.56764287  1.34658136\n",
      "  0.38810381  0.85787869 -0.15076111 -0.85183355  2.24306361 -0.02210381\n",
      "  1.49016304  2.37366231  1.36900678 -0.20258827  1.33953543  1.23336432\n",
      "  1.08934237  0.82507943 -0.20421501 -0.54166398  1.6636494   1.22980786\n",
      "  0.94257123  0.4860401   0.44323866  0.71428289  1.76326982  0.83740188\n",
      "  1.46109748 -0.93222503  0.98626373  1.1528877   1.27065261  1.70167238\n",
      "  1.24472088  0.51383676 -2.27133653  2.54727461  0.56753906  0.43002562\n",
      " -0.05523595  0.07181503 -0.61975554  2.6777803   0.47573695  1.46363479\n",
      "  0.21647078  1.51096377  1.10199706 -0.51255215  0.25383338 -0.89992706\n",
      " -2.07324301 -0.17952955  0.44375991  0.23392737  1.3724596   0.44190363\n",
      "  0.4233576   2.08290767 -0.88218768 -1.20174168  0.32587228  0.7038761\n",
      "  2.32935062  0.16061724  0.65930292  0.08268861  0.65592489  0.7854312\n",
      "  1.92596888  0.39374686  1.7201473   0.76968919  2.58953465  1.73561438\n",
      "  0.58045055  1.8446274   1.08776497  0.62282924  0.32715716 -0.50311036\n",
      "  2.0606497  -1.46583663  0.84200041  2.16829453  0.39324751  0.57588279\n",
      " -0.01105469  0.67612955  1.48924983  2.31097475  1.05449417  0.51451345\n",
      " -0.55815778  0.39613405  1.31072738  0.45377824  1.2368368   2.37899355\n",
      "  0.45769804  2.06423502  0.57090423  0.37054507  1.33691499 -0.00836179\n",
      " -0.62081953  1.59273119 -0.71594008  0.96961191]\n",
      "The shape is : (1000,)\n"
     ]
    }
   ],
   "source": [
    "distribution = np.random.normal(0.75, size = 1000)\n",
    "\n",
    "print(distribution)\n",
    "print(f\"The shape is : {distribution.shape}\")"
   ]
  },
  {
   "cell_type": "code",
   "execution_count": 26,
   "metadata": {},
   "outputs": [
    {
     "data": {
      "text/plain": [
       "0.9702846790452133"
      ]
     },
     "execution_count": 26,
     "metadata": {},
     "output_type": "execute_result"
    }
   ],
   "source": [
    "np.sqrt(np.sum((np.mean(distribution)-distribution)**2)/len(distribution)) # Formula for standard deviation"
   ]
  },
  {
   "cell_type": "code",
   "execution_count": 27,
   "metadata": {},
   "outputs": [
    {
     "data": {
      "text/plain": [
       "0.9702846790452133"
      ]
     },
     "execution_count": 27,
     "metadata": {},
     "output_type": "execute_result"
    }
   ],
   "source": [
    "np.std(distribution)"
   ]
  },
  {
   "cell_type": "code",
   "execution_count": 28,
   "metadata": {},
   "outputs": [
    {
     "data": {
      "text/plain": [
       "0.23816075461217334"
      ]
     },
     "execution_count": 28,
     "metadata": {},
     "output_type": "execute_result"
    }
   ],
   "source": [
    "import scipy.stats as stats\n",
    "stats.kurtosis(distribution)"
   ]
  },
  {
   "cell_type": "code",
   "execution_count": 29,
   "metadata": {},
   "outputs": [
    {
     "data": {
      "text/plain": [
       "-0.16391790427011596"
      ]
     },
     "execution_count": 29,
     "metadata": {},
     "output_type": "execute_result"
    }
   ],
   "source": [
    "stats.skew(distribution)"
   ]
  },
  {
   "cell_type": "code",
   "execution_count": 30,
   "metadata": {},
   "outputs": [
    {
     "data": {
      "text/plain": [
       "2.112152226236845"
      ]
     },
     "execution_count": 30,
     "metadata": {},
     "output_type": "execute_result"
    }
   ],
   "source": [
    "chi_squared_df2 = np.random.chisquare(2, size = 10000)\n",
    "stats.skew(chi_squared_df2)"
   ]
  },
  {
   "cell_type": "code",
   "execution_count": 36,
   "metadata": {},
   "outputs": [
    {
     "data": {
      "text/plain": [
       "1.201401037655451"
      ]
     },
     "execution_count": 36,
     "metadata": {},
     "output_type": "execute_result"
    }
   ],
   "source": [
    "chi_squared_df5 = np.random.chisquare(5, size = 10000)\n",
    "stats.skew(chi_squared_df5)"
   ]
  },
  {
   "cell_type": "code",
   "execution_count": 37,
   "metadata": {},
   "outputs": [
    {
     "data": {
      "text/plain": [
       "<matplotlib.legend.Legend at 0x7f478d37f940>"
      ]
     },
     "execution_count": 37,
     "metadata": {},
     "output_type": "execute_result"
    },
    {
     "data": {
      "image/png": "[encoded data removed]",
      "text/plain": [
       "<Figure size 432x288 with 1 Axes>"
      ]
     },
     "metadata": {
      "needs_background": "light"
     },
     "output_type": "display_data"
    }
   ],
   "source": [
    "output = plt.hist([chi_squared_df2, chi_squared_df5], bins = 50, histtype = 'step', \n",
    "                  label = ['2 degrees of freedom','5 degrees of freedom'])\n",
    "plt.legend(loc = 'upper right')"
   ]
  },
  {
   "cell_type": "markdown",
   "metadata": {},
   "source": [
    "# Hypothesis Testing"
   ]
  },
  {
   "cell_type": "code",
   "execution_count": 39,
   "metadata": {},
   "outputs": [],
   "source": [
    "df = pd.read_csv('grades.csv')"
   ]
  },
  {
   "cell_type": "code",
   "execution_count": 40,
   "metadata": {},
   "outputs": [
    {
     "data": {
      "text/html": [
       "<div>\n",
       "<style scoped>\n",
       "    .dataframe tbody tr th:only-of-type {\n",
       "        vertical-align: middle;\n",
       "    }\n",
       "\n",
       "    .dataframe tbody tr th {\n",
       "        vertical-align: top;\n",
       "    }\n",
       "\n",
       "    .dataframe thead th {\n",
       "        text-align: right;\n",
       "    }\n",
       "</style>\n",
       "<table border=\"1\" class=\"dataframe\">\n",
       "  <thead>\n",
       "    <tr style=\"text-align: right;\">\n",
       "      <th></th>\n",
       "      <th>student_id</th>\n",
       "      <th>assignment1_grade</th>\n",
       "      <th>assignment1_submission</th>\n",
       "      <th>assignment2_grade</th>\n",
       "      <th>assignment2_submission</th>\n",
       "      <th>assignment3_grade</th>\n",
       "      <th>assignment3_submission</th>\n",
       "      <th>assignment4_grade</th>\n",
       "      <th>assignment4_submission</th>\n",
       "      <th>assignment5_grade</th>\n",
       "      <th>assignment5_submission</th>\n",
       "      <th>assignment6_grade</th>\n",
       "      <th>assignment6_submission</th>\n",
       "    </tr>\n",
       "  </thead>\n",
       "  <tbody>\n",
       "    <tr>\n",
       "      <th>0</th>\n",
       "      <td>B73F2C11-70F0-E37D-8B10-1D20AFED50B1</td>\n",
       "      <td>92.733946</td>\n",
       "      <td>2015-11-02 06:55:34.282000000</td>\n",
       "      <td>83.030552</td>\n",
       "      <td>2015-11-09 02:22:58.938000000</td>\n",
       "      <td>67.164441</td>\n",
       "      <td>2015-11-12 08:58:33.998000000</td>\n",
       "      <td>53.011553</td>\n",
       "      <td>2015-11-16 01:21:24.663000000</td>\n",
       "      <td>47.710398</td>\n",
       "      <td>2015-11-20 13:24:59.692000000</td>\n",
       "      <td>38.168318</td>\n",
       "      <td>2015-11-22 18:31:15.934000000</td>\n",
       "    </tr>\n",
       "    <tr>\n",
       "      <th>1</th>\n",
       "      <td>98A0FAE0-A19A-13D2-4BB5-CFBFD94031D1</td>\n",
       "      <td>86.790821</td>\n",
       "      <td>2015-11-29 14:57:44.429000000</td>\n",
       "      <td>86.290821</td>\n",
       "      <td>2015-12-06 17:41:18.449000000</td>\n",
       "      <td>69.772657</td>\n",
       "      <td>2015-12-10 08:54:55.904000000</td>\n",
       "      <td>55.098125</td>\n",
       "      <td>2015-12-13 17:32:30.941000000</td>\n",
       "      <td>49.588313</td>\n",
       "      <td>2015-12-19 23:26:39.285000000</td>\n",
       "      <td>44.629482</td>\n",
       "      <td>2015-12-21 17:07:24.275000000</td>\n",
       "    </tr>\n",
       "    <tr>\n",
       "      <th>2</th>\n",
       "      <td>D0F62040-CEB0-904C-F563-2F8620916C4E</td>\n",
       "      <td>85.512541</td>\n",
       "      <td>2016-01-09 05:36:02.389000000</td>\n",
       "      <td>85.512541</td>\n",
       "      <td>2016-01-09 06:39:44.416000000</td>\n",
       "      <td>68.410033</td>\n",
       "      <td>2016-01-15 20:22:45.882000000</td>\n",
       "      <td>54.728026</td>\n",
       "      <td>2016-01-11 12:41:50.749000000</td>\n",
       "      <td>49.255224</td>\n",
       "      <td>2016-01-11 17:31:12.489000000</td>\n",
       "      <td>44.329701</td>\n",
       "      <td>2016-01-17 16:24:42.765000000</td>\n",
       "    </tr>\n",
       "    <tr>\n",
       "      <th>3</th>\n",
       "      <td>FFDF2B2C-F514-EF7F-6538-A6A53518E9DC</td>\n",
       "      <td>86.030665</td>\n",
       "      <td>2016-04-30 06:50:39.801000000</td>\n",
       "      <td>68.824532</td>\n",
       "      <td>2016-04-30 17:20:38.727000000</td>\n",
       "      <td>61.942079</td>\n",
       "      <td>2016-05-12 07:47:16.326000000</td>\n",
       "      <td>49.553663</td>\n",
       "      <td>2016-05-07 16:09:20.485000000</td>\n",
       "      <td>49.553663</td>\n",
       "      <td>2016-05-24 12:51:18.016000000</td>\n",
       "      <td>44.598297</td>\n",
       "      <td>2016-05-26 08:09:12.058000000</td>\n",
       "    </tr>\n",
       "    <tr>\n",
       "      <th>4</th>\n",
       "      <td>5ECBEEB6-F1CE-80AE-3164-E45E99473FB4</td>\n",
       "      <td>64.813800</td>\n",
       "      <td>2015-12-13 17:06:10.750000000</td>\n",
       "      <td>51.491040</td>\n",
       "      <td>2015-12-14 12:25:12.056000000</td>\n",
       "      <td>41.932832</td>\n",
       "      <td>2015-12-29 14:25:22.594000000</td>\n",
       "      <td>36.929549</td>\n",
       "      <td>2015-12-28 01:29:55.901000000</td>\n",
       "      <td>33.236594</td>\n",
       "      <td>2015-12-29 14:46:06.628000000</td>\n",
       "      <td>33.236594</td>\n",
       "      <td>2016-01-05 01:06:59.546000000</td>\n",
       "    </tr>\n",
       "  </tbody>\n",
       "</table>\n",
       "</div>"
      ],
      "text/plain": [
       "                             student_id  assignment1_grade  \\\n",
       "0  B73F2C11-70F0-E37D-8B10-1D20AFED50B1          92.733946   \n",
       "1  98A0FAE0-A19A-13D2-4BB5-CFBFD94031D1          86.790821   \n",
       "2  D0F62040-CEB0-904C-F563-2F8620916C4E          85.512541   \n",
       "3  FFDF2B2C-F514-EF7F-6538-A6A53518E9DC          86.030665   \n",
       "4  5ECBEEB6-F1CE-80AE-3164-E45E99473FB4          64.813800   \n",
       "\n",
       "          assignment1_submission  assignment2_grade  \\\n",
       "0  2015-11-02 06:55:34.282000000          83.030552   \n",
       "1  2015-11-29 14:57:44.429000000          86.290821   \n",
       "2  2016-01-09 05:36:02.389000000          85.512541   \n",
       "3  2016-04-30 06:50:39.801000000          68.824532   \n",
       "4  2015-12-13 17:06:10.750000000          51.491040   \n",
       "\n",
       "          assignment2_submission  assignment3_grade  \\\n",
       "0  2015-11-09 02:22:58.938000000          67.164441   \n",
       "1  2015-12-06 17:41:18.449000000          69.772657   \n",
       "2  2016-01-09 06:39:44.416000000          68.410033   \n",
       "3  2016-04-30 17:20:38.727000000          61.942079   \n",
       "4  2015-12-14 12:25:12.056000000          41.932832   \n",
       "\n",
       "          assignment3_submission  assignment4_grade  \\\n",
       "0  2015-11-12 08:58:33.998000000          53.011553   \n",
       "1  2015-12-10 08:54:55.904000000          55.098125   \n",
       "2  2016-01-15 20:22:45.882000000          54.728026   \n",
       "3  2016-05-12 07:47:16.326000000          49.553663   \n",
       "4  2015-12-29 14:25:22.594000000          36.929549   \n",
       "\n",
       "          assignment4_submission  assignment5_grade  \\\n",
       "0  2015-11-16 01:21:24.663000000          47.710398   \n",
       "1  2015-12-13 17:32:30.941000000          49.588313   \n",
       "2  2016-01-11 12:41:50.749000000          49.255224   \n",
       "3  2016-05-07 16:09:20.485000000          49.553663   \n",
       "4  2015-12-28 01:29:55.901000000          33.236594   \n",
       "\n",
       "          assignment5_submission  assignment6_grade  \\\n",
       "0  2015-11-20 13:24:59.692000000          38.168318   \n",
       "1  2015-12-19 23:26:39.285000000          44.629482   \n",
       "2  2016-01-11 17:31:12.489000000          44.329701   \n",
       "3  2016-05-24 12:51:18.016000000          44.598297   \n",
       "4  2015-12-29 14:46:06.628000000          33.236594   \n",
       "\n",
       "          assignment6_submission  \n",
       "0  2015-11-22 18:31:15.934000000  \n",
       "1  2015-12-21 17:07:24.275000000  \n",
       "2  2016-01-17 16:24:42.765000000  \n",
       "3  2016-05-26 08:09:12.058000000  \n",
       "4  2016-01-05 01:06:59.546000000  "
      ]
     },
     "execution_count": 40,
     "metadata": {},
     "output_type": "execute_result"
    }
   ],
   "source": [
    "df.head()"
   ]
  },
  {
   "cell_type": "code",
   "execution_count": 41,
   "metadata": {},
   "outputs": [
    {
     "data": {
      "text/plain": [
       "2315"
      ]
     },
     "execution_count": 41,
     "metadata": {},
     "output_type": "execute_result"
    }
   ],
   "source": [
    "len(df)"
   ]
  },
  {
   "cell_type": "code",
   "execution_count": 42,
   "metadata": {},
   "outputs": [],
   "source": [
    "early = df[df['assignment1_submission'] <= '2015-12-31']"
   ]
  },
  {
   "cell_type": "code",
   "execution_count": 43,
   "metadata": {},
   "outputs": [],
   "source": [
    "late = df[df['assignment1_submission'] > '2015-12-31']"
   ]
  },
  {
   "cell_type": "code",
   "execution_count": 44,
   "metadata": {},
   "outputs": [
    {
     "data": {
      "text/plain": [
       "assignment1_grade    74.972741\n",
       "assignment2_grade    67.252190\n",
       "assignment3_grade    61.129050\n",
       "assignment4_grade    54.157620\n",
       "assignment5_grade    48.634643\n",
       "assignment6_grade    43.838980\n",
       "dtype: float64"
      ]
     },
     "execution_count": 44,
     "metadata": {},
     "output_type": "execute_result"
    }
   ],
   "source": [
    "early.mean()"
   ]
  },
  {
   "cell_type": "code",
   "execution_count": 46,
   "metadata": {},
   "outputs": [
    {
     "data": {
      "text/plain": [
       "assignment1_grade    74.017429\n",
       "assignment2_grade    66.370822\n",
       "assignment3_grade    60.023244\n",
       "assignment4_grade    54.058138\n",
       "assignment5_grade    48.599402\n",
       "assignment6_grade    43.844384\n",
       "dtype: float64"
      ]
     },
     "execution_count": 46,
     "metadata": {},
     "output_type": "execute_result"
    }
   ],
   "source": [
    "late.mean()"
   ]
  },
  {
   "cell_type": "code",
   "execution_count": 51,
   "metadata": {},
   "outputs": [],
   "source": [
    "from scipy import stats\n",
    "stats.ttest_ind?"
   ]
  },
  {
   "cell_type": "code",
   "execution_count": 48,
   "metadata": {},
   "outputs": [
    {
     "data": {
      "text/plain": [
       "Ttest_indResult(statistic=1.400549944897566, pvalue=0.16148283016060577)"
      ]
     },
     "execution_count": 48,
     "metadata": {},
     "output_type": "execute_result"
    }
   ],
   "source": [
    "stats.ttest_ind(early['assignment1_grade'], late['assignment1_grade'])"
   ]
  },
  {
   "cell_type": "code",
   "execution_count": 49,
   "metadata": {},
   "outputs": [
    {
     "data": {
      "text/plain": [
       "Ttest_indResult(statistic=1.3239868220912567, pvalue=0.18563824610067967)"
      ]
     },
     "execution_count": 49,
     "metadata": {},
     "output_type": "execute_result"
    }
   ],
   "source": [
    "stats.ttest_ind(early['assignment2_grade'], late['assignment2_grade'])"
   ]
  },
  {
   "cell_type": "code",
   "execution_count": 50,
   "metadata": {},
   "outputs": [
    {
     "data": {
      "text/plain": [
       "Ttest_indResult(statistic=1.7116160037010733, pvalue=0.08710151634155668)"
      ]
     },
     "execution_count": 50,
     "metadata": {},
     "output_type": "execute_result"
    }
   ],
   "source": [
    "stats.ttest_ind(early['assignment3_grade'], late['assignment3_grade'])"
   ]
  },
  {
   "cell_type": "code",
   "execution_count": 52,
   "metadata": {},
   "outputs": [
    {
     "data": {
      "text/plain": [
       "Ttest_indResult(statistic=1.7038225930008057, pvalue=0.08855529899257068)"
      ]
     },
     "execution_count": 52,
     "metadata": {},
     "output_type": "execute_result"
    }
   ],
   "source": [
    "stats.ttest_ind(early['assignment3_grade'], late['assignment3_grade'], equal_var = False)"
   ]
  }
 ],
 "metadata": {
  "kernelspec": {
   "display_name": "Python 3",
   "language": "python",
   "name": "python3"
  },
  "language_info": {
   "codemirror_mode": {
    "name": "ipython",
    "version": 3
   },
   "file_extension": ".py",
   "mimetype": "text/x-python",
   "name": "python",
   "nbconvert_exporter": "python",
   "pygments_lexer": "ipython3",
   "version": "3.6.10"
  }
 },
 "nbformat": 4,
 "nbformat_minor": 4
}
